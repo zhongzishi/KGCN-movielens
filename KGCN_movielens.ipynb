{
  "cells": [
    {
      "cell_type": "code",
      "source": [
        "!git clone https://github.com/zhongzishi/KGCN-movielens.git\n",
        "%cd /content/KGCN-movielens/"
      ],
      "metadata": {
        "id": "pb2fv9aSK3Zf",
        "colab": {
          "base_uri": "https://localhost:8080/"
        },
        "outputId": "21058e2d-fc12-4d42-d0bf-4c9346a454cb"
      },
      "execution_count": 1,
      "outputs": [
        {
          "output_type": "stream",
          "name": "stdout",
          "text": [
            "Cloning into 'KGCN-movielens'...\n",
            "remote: Enumerating objects: 39, done.\u001b[K\n",
            "remote: Counting objects: 100% (39/39), done.\u001b[K\n",
            "remote: Compressing objects: 100% (27/27), done.\u001b[K\n",
            "remote: Total 39 (delta 14), reused 32 (delta 7), pack-reused 0\u001b[K\n",
            "Unpacking objects: 100% (39/39), 3.29 MiB | 2.46 MiB/s, done.\n",
            "/content/KGCN-movielens\n"
          ]
        }
      ]
    },
    {
      "cell_type": "code",
      "source": [
        "import pandas as pd\n",
        "import numpy as np\n",
        "import argparse\n",
        "import random\n",
        "from model import KGCN\n",
        "from data_loader import DataLoader\n",
        "from main import download_zip, convert_dat, KGCNDataset\n",
        "import torch\n",
        "import torch.optim as optim\n",
        "from sklearn.model_selection import train_test_split\n",
        "import matplotlib.pyplot as plt\n",
        "from sklearn.metrics import roc_auc_score\n",
        "import time"
      ],
      "metadata": {
        "id": "dmAQsvQsbYp8"
      },
      "execution_count": 2,
      "outputs": []
    },
    {
      "cell_type": "code",
      "source": [
        "parser = argparse.ArgumentParser()\n",
        "parser.add_argument('--data_url', type=str,\n",
        "                    default='http://files.grouplens.org/datasets/movielens/ml-10m.zip',\n",
        "                    help='link to download ratings data')\n",
        "parser.add_argument('--aggregator', type=str, default='sum')\n",
        "parser.add_argument('--n_epochs', type=int, default=20)\n",
        "parser.add_argument('--neighbor_sample_size', type=int, default=8)\n",
        "parser.add_argument('--dim', type=int, default=16, help='dimension of user and entity embeddings')\n",
        "parser.add_argument('--n_iter', type=int, default=1,\n",
        "                    help='number of iterations when computing entity representation')\n",
        "parser.add_argument('--batch_size', type=int, default=65536, help='batch size')\n",
        "parser.add_argument('--l2_weight', type=float, default=1e-4, help='weight of l2 regularization')\n",
        "parser.add_argument('--lr', type=float, default=5e-4, help='learning rate')\n",
        "parser.add_argument('--ratio', type=float, default=0.8, help='size of training dataset')\n",
        "parser.add_argument('--seed', type=int, default=999, help='seed to split train test set')\n",
        "args = parser.parse_args(['--l2_weight', '1e-4'])"
      ],
      "metadata": {
        "id": "pl1tIzTAcYqI"
      },
      "execution_count": 3,
      "outputs": []
    },
    {
      "cell_type": "code",
      "source": [
        "DATA_PATH = \"./data/movie\"\n",
        "RATINGS_COLS = [\"userId\", \"movieId\", \"rating\", \"timestamp\"]\n",
        "MOVIE_COLS = [\"movieId\", \"title\", \"genres\"]"
      ],
      "metadata": {
        "id": "9Ar-RHSt8mBz"
      },
      "execution_count": 4,
      "outputs": []
    },
    {
      "cell_type": "code",
      "source": [
        "# download & transform data\n",
        "download_zip(args.data_url)\n",
        "convert_dat(f\"{DATA_PATH}/ratings.dat\", RATINGS_COLS)\n",
        "convert_dat(f\"{DATA_PATH}/movies.dat\", MOVIE_COLS)"
      ],
      "metadata": {
        "id": "QhlJn6yS8mG5",
        "colab": {
          "base_uri": "https://localhost:8080/"
        },
        "outputId": "76d5c950-54df-433b-9e6f-6c09452f7084"
      },
      "execution_count": 5,
      "outputs": [
        {
          "output_type": "stream",
          "name": "stdout",
          "text": [
            "Download and transformation done\n"
          ]
        },
        {
          "output_type": "stream",
          "name": "stderr",
          "text": [
            "/usr/local/lib/python3.8/dist-packages/pandas/util/_decorators.py:311: ParserWarning: Falling back to the 'python' engine because the 'c' engine does not support regex separators (separators > 1 char and different from '\\s+' are interpreted as regex); you can avoid this warning by specifying engine='python'.\n",
            "  return func(*args, **kwargs)\n"
          ]
        },
        {
          "output_type": "stream",
          "name": "stdout",
          "text": [
            "./data/movie/ratings.csv saved\n",
            "./data/movie/movies.csv saved\n"
          ]
        }
      ]
    },
    {
      "cell_type": "code",
      "source": [
        "# prepare dataset\n",
        "data_loader = DataLoader()\n",
        "kg = data_loader.load_kg()\n",
        "df_dataset = data_loader.load_dataset()\n",
        "x_train, x_test, y_train, y_test = train_test_split(df_dataset,\n",
        "                                                    df_dataset['label'],\n",
        "                                                    test_size=1 - args.ratio,\n",
        "                                                    shuffle=False,\n",
        "                                                    random_state=args.seed)\n",
        "train_dataset = KGCNDataset(x_train)\n",
        "test_dataset = KGCNDataset(x_test)\n",
        "train_loader = torch.utils.data.DataLoader(train_dataset, batch_size=args.batch_size, pin_memory=True)\n",
        "test_loader = torch.utils.data.DataLoader(test_dataset, batch_size=args.batch_size, pin_memory=True)"
      ],
      "metadata": {
        "id": "72T_kPeT8mLt",
        "colab": {
          "base_uri": "https://localhost:8080/"
        },
        "outputId": "de35e0b1-16a1-4009-c286-bfd1d37f201e"
      },
      "execution_count": 6,
      "outputs": [
        {
          "output_type": "stream",
          "name": "stdout",
          "text": [
            "Construct knowledge graph ... Done\n",
            "Build dataset ... Done\n"
          ]
        }
      ]
    },
    {
      "cell_type": "code",
      "source": [
        "# prepare network, loss function, optimizer\n",
        "num_user, num_entity, num_relation = data_loader.get_num()\n",
        "user_encoder, entity_encoder, relation_encoder = data_loader.get_encoders()\n",
        "device = torch.device('cuda' if torch.cuda.is_available() else 'cpu')\n",
        "net = KGCN(num_user, num_entity, num_relation, kg, args, device).to(device)\n",
        "criterion = torch.nn.BCELoss()\n",
        "optimizer = optim.Adam(net.parameters(),\n",
        "                        lr=args.lr,\n",
        "                        weight_decay=args.l2_weight)"
      ],
      "metadata": {
        "id": "iLvrdFDz8scR"
      },
      "execution_count": 7,
      "outputs": []
    },
    {
      "cell_type": "code",
      "source": [
        "# train\n",
        "loss_list = []\n",
        "test_loss_list = []\n",
        "auc_score_list = []\n",
        "\n",
        "for epoch in range(args.n_epochs):\n",
        "    print(f\"start {epoch} epoch\")\n",
        "    running_loss = 0.0\n",
        "    for i, (user_ids, item_ids, labels) in enumerate(train_loader):\n",
        "        user_ids, item_ids, labels = user_ids.to(device), item_ids.to(device), labels.to(device)\n",
        "        optimizer.zero_grad()\n",
        "        outputs = net(user_ids, item_ids)\n",
        "        loss = criterion(outputs, labels)\n",
        "        loss.backward()\n",
        "        optimizer.step()\n",
        "        running_loss += loss.item()\n",
        "\n",
        "    # print train loss per every epoch\n",
        "    print('[Epoch {}]train_loss: '.format(epoch + 1), running_loss / len(train_loader))\n",
        "    loss_list.append(running_loss / len(train_loader))\n",
        "\n",
        "    # evaluate per every epoch\n",
        "    with torch.no_grad():\n",
        "        test_loss = 0\n",
        "        total_roc = 0\n",
        "        for user_ids, item_ids, labels in test_loader:\n",
        "            user_ids, item_ids, labels = user_ids.to(device), item_ids.to(device), labels.to(device)\n",
        "            outputs = net(user_ids, item_ids)\n",
        "            test_loss += criterion(outputs, labels).item()\n",
        "            total_roc += roc_auc_score(labels.cpu().detach().numpy(), outputs.cpu().detach().numpy())\n",
        "        print('[Epoch {}]test_loss: '.format(epoch + 1), test_loss / len(test_loader))\n",
        "        test_loss_list.append(test_loss / len(test_loader))\n",
        "        auc_score_list.append(total_roc / len(test_loader))"
      ],
      "metadata": {
        "id": "V5HQHEMw8shd",
        "colab": {
          "base_uri": "https://localhost:8080/"
        },
        "outputId": "28e79f12-f6f0-4ca0-83ac-2da4b73519b3"
      },
      "execution_count": 8,
      "outputs": [
        {
          "output_type": "stream",
          "name": "stdout",
          "text": [
            "start 0 epoch\n",
            "[Epoch 1]train_loss:  0.741262961407097\n",
            "[Epoch 1]test_loss:  0.562751111984253\n",
            "start 1 epoch\n",
            "[Epoch 2]train_loss:  0.46101245892291165\n",
            "[Epoch 2]test_loss:  0.3794023525714874\n",
            "start 2 epoch\n",
            "[Epoch 3]train_loss:  0.32493701485954984\n",
            "[Epoch 3]test_loss:  0.27935136198997496\n",
            "start 3 epoch\n",
            "[Epoch 4]train_loss:  0.24634869761612951\n",
            "[Epoch 4]test_loss:  0.21821672856807708\n",
            "start 4 epoch\n",
            "[Epoch 5]train_loss:  0.19666369821952315\n",
            "[Epoch 5]test_loss:  0.17827387332916259\n",
            "start 5 epoch\n",
            "[Epoch 6]train_loss:  0.163680299204223\n",
            "[Epoch 6]test_loss:  0.15132788717746734\n",
            "start 6 epoch\n",
            "[Epoch 7]train_loss:  0.14105360544457726\n",
            "[Epoch 7]test_loss:  0.13245533525943756\n",
            "start 7 epoch\n",
            "[Epoch 8]train_loss:  0.12503480029349423\n",
            "[Epoch 8]test_loss:  0.11893963724374772\n",
            "start 8 epoch\n",
            "[Epoch 9]train_loss:  0.1134345468361767\n",
            "[Epoch 9]test_loss:  0.10896438717842102\n",
            "start 9 epoch\n",
            "[Epoch 10]train_loss:  0.10477814344423157\n",
            "[Epoch 10]test_loss:  0.10149801760911942\n",
            "start 10 epoch\n",
            "[Epoch 11]train_loss:  0.09834251317138575\n",
            "[Epoch 11]test_loss:  0.09591177701950074\n",
            "start 11 epoch\n",
            "[Epoch 12]train_loss:  0.09346407324988015\n",
            "[Epoch 12]test_loss:  0.09164556711912156\n",
            "start 12 epoch\n",
            "[Epoch 13]train_loss:  0.08965203470113325\n",
            "[Epoch 13]test_loss:  0.08818806022405624\n",
            "start 13 epoch\n",
            "[Epoch 14]train_loss:  0.0865791281875299\n",
            "[Epoch 14]test_loss:  0.08549670577049255\n",
            "start 14 epoch\n",
            "[Epoch 15]train_loss:  0.08422532654842552\n",
            "[Epoch 15]test_loss:  0.08341359615325927\n",
            "start 15 epoch\n",
            "[Epoch 16]train_loss:  0.08236896923306036\n",
            "[Epoch 16]test_loss:  0.08174514025449753\n",
            "start 16 epoch\n",
            "[Epoch 17]train_loss:  0.08087543869505123\n",
            "[Epoch 17]test_loss:  0.08038756042718888\n",
            "start 17 epoch\n",
            "[Epoch 18]train_loss:  0.07965814983662294\n",
            "[Epoch 18]test_loss:  0.07929079204797745\n",
            "start 18 epoch\n",
            "[Epoch 19]train_loss:  0.07866009659304911\n",
            "[Epoch 19]test_loss:  0.07836661726236344\n",
            "start 19 epoch\n",
            "[Epoch 20]train_loss:  0.07783195323177747\n",
            "[Epoch 20]test_loss:  0.07762670278549194\n"
          ]
        }
      ]
    },
    {
      "cell_type": "code",
      "source": [
        "ts = int(time.time())\n",
        "\n",
        "# plot\n",
        "fig, (ax1, ax2) = plt.subplots(1, 2, figsize=(10, 4))\n",
        "ax1.plot(loss_list, label=\"train loss\")\n",
        "ax1.plot(test_loss_list, label=\"test loss\")\n",
        "ax2.plot(auc_score_list, label=\" AUC score\")\n",
        "ax1.legend(loc=\"upper right\")\n",
        "ax2.legend(loc=\"upper left\")\n",
        "plt.show()\n",
        "fig.savefig(f\"./kgcn_{ts}.png\")"
      ],
      "metadata": {
        "id": "oXPDA9Sk8sm1",
        "colab": {
          "base_uri": "https://localhost:8080/",
          "height": 265
        },
        "outputId": "2aef1c9b-78e9-4fa2-dc1a-76fc1f8415d5"
      },
      "execution_count": 9,
      "outputs": [
        {
          "output_type": "display_data",
          "data": {
            "text/plain": [
              "<Figure size 720x288 with 2 Axes>"
            ],
            "image/png": "[encoded data removed]"
          },
          "metadata": {
            "needs_background": "light"
          }
        }
      ]
    },
    {
      "cell_type": "code",
      "source": [
        "auc_score_list"
      ],
      "metadata": {
        "colab": {
          "base_uri": "https://localhost:8080/"
        },
        "id": "uHiX443_j4vP",
        "outputId": "2faa7427-038f-45e4-aafe-8e6cfdb2cc23"
      },
      "execution_count": 10,
      "outputs": [
        {
          "output_type": "execute_result",
          "data": {
            "text/plain": [
              "[0.6319353022913244,\n",
              " 0.7184098728408681,\n",
              " 0.7802593037934727,\n",
              " 0.8231518274911654,\n",
              " 0.8540352664747292,\n",
              " 0.8769456018346774,\n",
              " 0.8945152593353969,\n",
              " 0.9084219135531795,\n",
              " 0.9198379981113888,\n",
              " 0.9293364411503385,\n",
              " 0.9373762760393624,\n",
              " 0.94429021500132,\n",
              " 0.9504358180928908,\n",
              " 0.9558033450100535,\n",
              " 0.9604697476136985,\n",
              " 0.964603087386029,\n",
              " 0.9682695018100315,\n",
              " 0.9715056420849488,\n",
              " 0.9743789560376697,\n",
              " 0.9768973350941681]"
            ]
          },
          "metadata": {},
          "execution_count": 10
        }
      ]
    },
    {
      "cell_type": "code",
      "source": [
        "# save model\n",
        "\n",
        "model_path = f\"./kgcn_{ts}.pt\"\n",
        "torch.save(net.state_dict(), model_path)\n",
        "print(f\"model saved : {model_path}\")"
      ],
      "metadata": {
        "id": "N95_hrDS8sr_",
        "colab": {
          "base_uri": "https://localhost:8080/"
        },
        "outputId": "c4581a9e-e499-4a2c-d2b9-4c5887bf2a76"
      },
      "execution_count": 11,
      "outputs": [
        {
          "output_type": "stream",
          "name": "stdout",
          "text": [
            "model saved : ./kgcn_1677973656.pt\n"
          ]
        }
      ]
    }
  ],
  "metadata": {
    "accelerator": "GPU",
    "colab": {
      "provenance": []
    },
    "gpuClass": "standard",
    "kernelspec": {
      "display_name": "Python 3",
      "language": "python",
      "name": "python3"
    },
    "language_info": {
      "codemirror_mode": {
        "name": "ipython",
        "version": 3
      },
      "file_extension": ".py",
      "mimetype": "text/x-python",
      "name": "python",
      "nbconvert_exporter": "python",
      "pygments_lexer": "ipython3",
      "version": "3.7.7"
    }
  },
  "nbformat": 4,
  "nbformat_minor": 0
}